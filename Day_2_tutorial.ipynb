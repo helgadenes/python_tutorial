{
 "cells": [
  {
   "cell_type": "markdown",
   "metadata": {},
   "source": [
    "## 1. Read in data from a table\n",
    "\n",
    "Read in data table (iris.csv) into lists. One list for each column (sepal_length, sepal_width, petal_length, petal_width, specis)\n",
    "\n",
    "1. Define lists\n",
    "2. open the file\n",
    "3. read in the individual lines in the file\n",
    "4. split up the lines based on the deliminator (',')\n",
    "5. add data to lists\n",
    "6. print your lists to check them\n",
    "\n",
    "\n",
    "## 1. Plot $\\frac{\\sin(\\pi x)}{(\\pi x)}$\n",
    "\n",
    "    - Draw a grey dashed line at y=0\n",
    "\n",
    "## 2. Make a scatter plot\n",
    "\n",
    "Read in data from a table (iris.csv) and plot petal length against petal width.\n",
    "\n",
    "Add the following things to your plot:\n",
    "\n",
    "    - title\n",
    "    - axis labels\n",
    "    - use font size 16 (add fontsize=16 after the lable)\n",
    "    "
   ]
  }
 ],
 "metadata": {
  "kernelspec": {
   "display_name": "Python 3",
   "language": "python",
   "name": "python3"
  },
  "language_info": {
   "codemirror_mode": {
    "name": "ipython",
    "version": 3
   },
   "file_extension": ".py",
   "mimetype": "text/x-python",
   "name": "python",
   "nbconvert_exporter": "python",
   "pygments_lexer": "ipython3",
   "version": "3.4.8"
  }
 },
 "nbformat": 4,
 "nbformat_minor": 2
}
