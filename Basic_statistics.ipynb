{
 "cells": [
  {
   "cell_type": "markdown",
   "metadata": {},
   "source": [
    "# Basic Statistics\n",
    "\n",
    "<b>Resources:</b>\n",
    "\n",
    "Google is your best friend! Searching in english is highly recommended.  \n",
    "\n",
    "Numpy - http://www.numpy.org/\n",
    "\n",
    "Numpy statistic functions: https://docs.scipy.org/doc/numpy/reference/routines.statistics.html\n",
    "    \n",
    "<b>Contents:</b>\n",
    "\n",
    "    - calculating the mean, median, variance, standard deviation, maximum and minimum of datasets\n",
    "    - fitting polynomials to data\n",
    " "
   ]
  },
  {
   "cell_type": "code",
   "execution_count": 1,
   "metadata": {},
   "outputs": [
    {
     "name": "stdout",
     "output_type": "stream",
     "text": [
      "Ordered list: [0.74, 2.96, 3.15, 7.34, 8.65, 9.23]\n",
      "Reversed list: [9.23, 8.65, 7.34, 3.15, 2.96, 0.74]\n"
     ]
    }
   ],
   "source": [
    "numbers = [8.65, 9.23, 2.96, 7.34, 3.15, 0.74]\n",
    "\n",
    "# Let's order our list of numbers:\n",
    "numbers.sort()\n",
    "print('Ordered list:', numbers)\n",
    "\n",
    "# Reverse the order of the numbers:\n",
    "numbers.reverse()\n",
    "print('Reversed list:', numbers)\n"
   ]
  },
  {
   "cell_type": "code",
   "execution_count": 2,
   "metadata": {},
   "outputs": [
    {
     "name": "stdout",
     "output_type": "stream",
     "text": [
      "Minimum: 0.74\n",
      "Maximum: 9.23\n"
     ]
    }
   ],
   "source": [
    "min_numbers = min(numbers)\n",
    "max_numbers = max(numbers)\n",
    "\n",
    "print('Minimum:', min_numbers)\n",
    "print('Maximum:', max_numbers)"
   ]
  },
  {
   "cell_type": "markdown",
   "metadata": {},
   "source": [
    "# Using numpy\n",
    "\n",
    "NumPy is the fundamental package for scientific computing with Python."
   ]
  },
  {
   "cell_type": "markdown",
   "metadata": {},
   "source": [
    "Let us look at a few simple things using data from a table.\n",
    "\n",
    "1. Read in data from a table (iris.csv)"
   ]
  },
  {
   "cell_type": "code",
   "execution_count": 3,
   "metadata": {},
   "outputs": [
    {
     "name": "stdout",
     "output_type": "stream",
     "text": [
      "[1.4, 1.4, 1.3, 1.5, 1.4, 1.7, 1.4, 1.5, 1.4, 1.5, 1.5, 1.6, 1.4, 1.1, 1.2, 1.5, 1.3, 1.4, 1.7, 1.5, 1.7, 1.5, 1.0, 1.7, 1.9, 1.6, 1.6, 1.5, 1.4, 1.6, 1.6, 1.5, 1.5, 1.4, 1.5, 1.2, 1.3, 1.5, 1.3, 1.5, 1.3, 1.3, 1.3, 1.6, 1.9, 1.4, 1.6, 1.4, 1.5, 1.4, 4.7, 4.5, 4.9, 4.0, 4.6, 4.5, 4.7, 3.3, 4.6, 3.9, 3.5, 4.2, 4.0, 4.7, 3.6, 4.4, 4.5, 4.1, 4.5, 3.9, 4.8, 4.0, 4.9, 4.7, 4.3, 4.4, 4.8, 5.0, 4.5, 3.5, 3.8, 3.7, 3.9, 5.1, 4.5, 4.5, 4.7, 4.4, 4.1, 4.0, 4.4, 4.6, 4.0, 3.3, 4.2, 4.2, 4.2, 4.3, 3.0, 4.1, 6.0, 5.1, 5.9, 5.6, 5.8, 6.6, 4.5, 6.3, 5.8, 6.1, 5.1, 5.3, 5.5, 5.0, 5.1, 5.3, 5.5, 6.7, 6.9, 5.0, 5.7, 4.9, 6.7, 4.9, 5.7, 6.0, 4.8, 4.9, 5.6, 5.8, 6.1, 6.4, 5.6, 5.1, 5.6, 6.1, 5.6, 5.5, 4.8, 5.4, 5.6, 5.1, 5.1, 5.9, 5.7, 5.2, 5.0, 5.2, 5.4, 5.1]\n"
     ]
    }
   ],
   "source": [
    "#Read in data from a table (iris.csv)\n",
    "\n",
    "# define the lists in which you read in the data\n",
    "sepal_length = []\n",
    "sepal_width = []\n",
    "petal_length = []\n",
    "petal_width = []\n",
    "specis = []\n",
    "\n",
    "\n",
    "# open the file, read the lines, and split the columns into lists\n",
    "g = open('./data/iris.csv', 'r')\n",
    "data = g.read().splitlines()\n",
    "for j in range(1, len(data)):\n",
    "    c = data[j].split(',')\n",
    "    sepal_length.append(float(c[0]))  #float() because we know that this column only has numbers\n",
    "    sepal_width.append(float(c[1]))\n",
    "    petal_length.append(float(c[2]))\n",
    "    petal_width.append(float(c[3]))\n",
    "    specis.append(c[4])\n",
    "    \n",
    "g.close()\n",
    "\n",
    "# print the data in petal_length\n",
    "print(petal_length)\n"
   ]
  },
  {
   "cell_type": "markdown",
   "metadata": {},
   "source": [
    "Find the minimum and maximum petal lengths and calculate the average petal length.\n",
    "\n",
    "2. Print minimum and maximum values of a list\n",
    "3. Calculate average of a list\n",
    "4. Calculate the average of an array using numpy"
   ]
  },
  {
   "cell_type": "code",
   "execution_count": 4,
   "metadata": {},
   "outputs": [
    {
     "name": "stdout",
     "output_type": "stream",
     "text": [
      "Minimum petal length: 1.0\n",
      "Maximum petal length: 6.9\n",
      "Number of elememnts in petal_length: 150\n",
      "Sum of numbers in petal_length: 563.8000000000004\n",
      "Average petal length (simple math): 3.7586666666666693\n"
     ]
    }
   ],
   "source": [
    "# print the minimum and maximum of the petal_length list\n",
    "print('Minimum petal length:', min(petal_length))\n",
    "print('Maximum petal length:', max(petal_length))\n",
    "\n",
    "# how many elemths are in petal_length?\n",
    "print('Number of elememnts in petal_length:', len(petal_length))\n",
    "\n",
    "# what is the sum of all elements in petal_length?\n",
    "print('Sum of numbers in petal_length:',sum(petal_length))\n",
    "\n",
    "#calculate average petal_length\n",
    "average_petal_length = sum(petal_length)/len(petal_length)\n",
    "print('Average petal length (simple math):', average_petal_length)\n"
   ]
  },
  {
   "cell_type": "code",
   "execution_count": 5,
   "metadata": {},
   "outputs": [
    {
     "name": "stdout",
     "output_type": "stream",
     "text": [
      "Sum of numbers in petal_length: 563.8\n",
      "Average petal length (simple math): 3.76\n"
     ]
    }
   ],
   "source": [
    "# rounding numbers to 2 digits with: round(,2)\n",
    "\n",
    "# round the sum to 2 digits with: round(,2)\n",
    "print('Sum of numbers in petal_length:', round(sum(petal_length),2))\n",
    "\n",
    "print('Average petal length (simple math):', round(average_petal_length,2))"
   ]
  },
  {
   "cell_type": "code",
   "execution_count": 6,
   "metadata": {},
   "outputs": [
    {
     "name": "stdout",
     "output_type": "stream",
     "text": [
      "Average petal length (numpy.average()): 3.758666666666666\n",
      "Average petal length (numpy.average(): 3.76\n"
     ]
    }
   ],
   "source": [
    "# make an array with the petal length\n",
    "\n",
    "import numpy as np\n",
    "\n",
    "petal_length_ar = np.array(petal_length)  \n",
    "\n",
    "print('Average petal length (numpy.average()):', np.average(petal_length_ar))\n",
    "print('Average petal length (numpy.average():', round(np.average(petal_length_ar),2))"
   ]
  },
  {
   "cell_type": "code",
   "execution_count": 7,
   "metadata": {},
   "outputs": [
    {
     "name": "stdout",
     "output_type": "stream",
     "text": [
      "Median petal length: 4.35\n",
      "Variance petal length: 3.092424888888889\n",
      "Standard deviation petal length: 1.7585291834055212\n"
     ]
    }
   ],
   "source": [
    "# median, variance and standard deviation\n",
    "\n",
    "print('Median petal length:', np.median(petal_length_ar))\n",
    "print('Variance petal length:', np.var(petal_length_ar))\n",
    "print('Standard deviation petal length:', np.std(petal_length_ar))"
   ]
  },
  {
   "cell_type": "markdown",
   "metadata": {},
   "source": [
    "# Fitting a polinomial\n",
    "\n",
    "Let us look at the correlation between petal length and petal width. \n",
    "\n",
    "1. Fit a polinomial to the data (linear least squares fit)\n",
    "2. Plot petal width against petal length and drw the fitted polinomial\n",
    "\n",
    "To fit a polinomial to two arrays/lists we can use <b>numpy.polyfit()</b>.\n",
    "See also: https://docs.scipy.org/doc/numpy/reference/generated/numpy.polyfit.html\n",
    "\n",
    "Polifits fits a function in the following form: $p(x) = p[0] \\times x^{deg} + ... + p[deg]$, where deg is the degree of the polinomial.\n",
    "\n",
    "The solution minimizes the squared error $E = \\sum_{j=0}^k |p(x_j) - y_j|^2$"
   ]
  },
  {
   "cell_type": "code",
   "execution_count": 8,
   "metadata": {},
   "outputs": [
    {
     "data": {
      "text/plain": [
       "(0.41641913228540095, -0.3665140452167274)"
      ]
     },
     "execution_count": 8,
     "metadata": {},
     "output_type": "execute_result"
    }
   ],
   "source": [
    "a, b = np.polyfit(petal_length, petal_width, 1)\n",
    "a, b"
   ]
  },
  {
   "cell_type": "code",
   "execution_count": 9,
   "metadata": {},
   "outputs": [
    {
     "data": {
      "text/plain": [
       "<matplotlib.figure.Figure at 0x109bdc668>"
      ]
     },
     "metadata": {},
     "output_type": "display_data"
    }
   ],
   "source": [
    "import matplotlib\n",
    "import matplotlib.pyplot as plt\n",
    "\n",
    "x = np.arange(np.min(petal_length), np.max(petal_length)+1,1)\n",
    "y = x * a + b\n",
    "\n",
    "plt.plot(petal_length, petal_width, 's', markersize=5, mfc='green', mec='green', alpha=0.5 , label = 'petals')\n",
    "plt.plot(x, y, 'C3')\n",
    "\n",
    "plt.xlabel('Petal length', fontsize=16)\n",
    "plt.ylabel('Petal width', fontsize=16)\n",
    "plt.title('Iris petals', fontsize=16)\n",
    "\n",
    "plt.show()"
   ]
  },
  {
   "cell_type": "code",
   "execution_count": 10,
   "metadata": {},
   "outputs": [],
   "source": [
    "# fitting a second order polinomial\n",
    "\n",
    "a_2, b_2, c_2 = np.polyfit(petal_length, petal_width, 2)"
   ]
  },
  {
   "cell_type": "code",
   "execution_count": 11,
   "metadata": {},
   "outputs": [
    {
     "data": {
      "image/png": "[encoded data removed]",
      "text/plain": [
       "<matplotlib.figure.Figure at 0x10b16f5f8>"
      ]
     },
     "metadata": {},
     "output_type": "display_data"
    }
   ],
   "source": [
    "import matplotlib\n",
    "import matplotlib.pyplot as plt\n",
    "\n",
    "x = np.arange(np.min(petal_length), np.max(petal_length)+1,1)\n",
    "y = x * a + b\n",
    "\n",
    "y_2 = x**2 * a_2 + x * b_2 + c_2\n",
    "\n",
    "plt.plot(petal_length, petal_width, 's', markersize=5, mfc='green', mec='green', alpha=0.5 , label = 'petals')\n",
    "plt.plot(x, y, 'C3')\n",
    "plt.plot(x, y_2, 'C0', linestyle = '--')\n",
    "\n",
    "plt.xlabel('Petal length', fontsize=16)\n",
    "plt.ylabel('Petal width', fontsize=16)\n",
    "plt.title('Iris petals', fontsize=16)\n",
    "\n",
    "plt.show()"
   ]
  },
  {
   "cell_type": "code",
   "execution_count": 25,
   "metadata": {},
   "outputs": [
    {
     "name": "stdout",
     "output_type": "stream",
     "text": [
      "SpearmanrResult(correlation=0.9360033509355781, pvalue=5.383649646073561e-69)\n",
      "Perason r: (0.9627570970509662, 5.776660988495158e-86)\n"
     ]
    }
   ],
   "source": [
    "# calculate Pearson's r correlation coeficient\n",
    "from scipy.stats import spearmanr, pearsonr\n",
    "\n",
    "p = spearmanr(petal_length, petal_width)\n",
    "\n",
    "p1 = pearsonr(petal_length, petal_width)\n",
    "\n",
    "print(p)\n",
    "\n",
    "print('Perason r:', p1)"
   ]
  },
  {
   "cell_type": "markdown",
   "metadata": {},
   "source": [
    "## Defining a function\n",
    "\n",
    "It is very easy to define our own functions. \n",
    "\n",
    "Use <b>def \"function_name():\"</b> to define the name of the function. Afterwards, define what the function should do.\n",
    "\n",
    "A very simple example:"
   ]
  },
  {
   "cell_type": "code",
   "execution_count": 17,
   "metadata": {},
   "outputs": [
    {
     "data": {
      "text/plain": [
       "10"
      ]
     },
     "execution_count": 17,
     "metadata": {},
     "output_type": "execute_result"
    }
   ],
   "source": [
    "def multiply(x):\n",
    "    return x * 2\n",
    "\n",
    "b = multiply(5)\n",
    "\n",
    "b"
   ]
  },
  {
   "cell_type": "markdown",
   "metadata": {},
   "source": [
    "## Fitting a function to data\n",
    "\n",
    "Fitting the following function to data: $a e^{-b x} + c$\n",
    "\n",
    "Using <b>scipy.optimize.curve_fit</b> - https://docs.scipy.org/doc/scipy/reference/generated/scipy.optimize.curve_fit.html\n",
    "\n",
    "Curve_fit fits does a non-linear least squares fit of a function, f, to data."
   ]
  },
  {
   "cell_type": "code",
   "execution_count": 16,
   "metadata": {},
   "outputs": [
    {
     "name": "stdout",
     "output_type": "stream",
     "text": [
      "a,b,c: [2.55423706 1.35190947 0.47450618]\n",
      "a,b,c: [2.43708906 1.         0.35015434]\n"
     ]
    },
    {
     "data": {
      "image/png": "[encoded data removed]",
      "text/plain": [
       "<matplotlib.figure.Figure at 0x10c85ffd0>"
      ]
     },
     "metadata": {},
     "output_type": "display_data"
    }
   ],
   "source": [
    "import numpy as np\n",
    "import matplotlib.pyplot as plt\n",
    "from scipy.optimize import curve_fit\n",
    "\n",
    "#define a function to fit to the data\n",
    "def func(x, a, b, c):\n",
    "    return a * np.exp(-b * x) + c\n",
    "\n",
    "# generate data\n",
    "xdata = np.linspace(0, 4, 50)\n",
    "y = func(xdata, 2.5, 1.3, 0.5)\n",
    "# generate noise for the data\n",
    "np.random.seed(1729)\n",
    "y_noise = 0.2 * np.random.normal(size=xdata.size)\n",
    "ydata = y + y_noise\n",
    "\n",
    "# plot data\n",
    "plt.plot(xdata, ydata, 'b-', label='data')\n",
    "\n",
    "# fit function:\n",
    "popt, pcov = curve_fit(func, xdata, ydata)\n",
    "plt.plot(xdata, func(xdata, *popt), 'r-', label='fit: a='+str(round(popt[0],2))+', b='+str(round(popt[1],2))+', c='+str(round(popt[2],2)) )\n",
    "\n",
    "print('a,b,c:', popt)\n",
    "\n",
    "# fit function with constrains:\n",
    "# bounds = () defines the lower and upper boundaries for the independent variables\n",
    "popt, pcov = curve_fit(func, xdata, ydata, bounds=(0, [3., 1., 0.5]))\n",
    "plt.plot(xdata, func(xdata, *popt), 'g--', label='fit: a='+str(round(popt[0],2))+', b='+str(round(popt[1],2))+', c='+str(round(popt[2],2)) )\n",
    "\n",
    "print('a,b,c:', popt)\n",
    "\n",
    "plt.xlabel('x')\n",
    "plt.ylabel('y')\n",
    "plt.legend()\n",
    "plt.show()"
   ]
  },
  {
   "cell_type": "markdown",
   "metadata": {},
   "source": [
    "\n",
    "        "
   ]
  }
 ],
 "metadata": {
  "kernelspec": {
   "display_name": "Python 3",
   "language": "python",
   "name": "python3"
  },
  "language_info": {
   "codemirror_mode": {
    "name": "ipython",
    "version": 3
   },
   "file_extension": ".py",
   "mimetype": "text/x-python",
   "name": "python",
   "nbconvert_exporter": "python",
   "pygments_lexer": "ipython3",
   "version": "3.4.8"
  }
 },
 "nbformat": 4,
 "nbformat_minor": 2
}
