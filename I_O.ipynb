{
 "cells": [
  {
   "cell_type": "markdown",
   "metadata": {},
   "source": [
    "# Reading and Writing files\n",
    "\n",
    "<b>Resources:</b> \n",
    "\n",
    "Google is your best friend! Searching in english is highly recommended.  \n",
    "\n",
    "Numpy - http://www.numpy.org/\n",
    "\n",
    "Numpy arrays - https://docs.scipy.org/doc/numpy/reference/generated/numpy.array.html\n",
    "\n",
    "http://www.pythonforbeginners.com\n",
    "\n",
    "\n",
    "# File Types\n",
    "\n",
    "In Python, a file is categorized as <b>either text or binary</b>, and the difference between the two file types is important. \n",
    "\n",
    "Text files are structured as a sequence of lines, where each line includes a sequence of characters. This is what you know as code or syntax. \n",
    "\n",
    "Each line is terminated with a special character, called the EOL or End of Line character. It ends the current line and tells the interpreter a new one has begun. \n",
    "\n",
    "A binary file is any type of file that is not a text file. Because of their nature, binary files can only be processed by an application that know or understand the file’s structure. In other words, they must be applications that can read and interpret binary. There are several python libraries available to read and write binary files. E.g. pandas (https://pandas.pydata.org/), astropy (http://www.astropy.org/). \n",
    "\n",
    "\n",
    "\n",
    "# Open function\n",
    "\n",
    "Reading or writing files is handled natively in python.\n",
    "\n",
    "You can use the built-in <b>open()</b> function to open a file. \n",
    "\n",
    "When you use the open function, it returns something called a file object. File objects contain methods and attributes that can be used to collect information about the file you opened. They can also be used to manipulate said file.\n",
    "\n",
    "For example, the mode attribute of a file object tells you which mode a file was opened in. And the name attribute tells you the name of the file that the file object has opened. \n",
    "\n",
    "The syntax to open a file object in Python is the following: \n",
    "\n",
    "<b>file_object  = open(“filename”, “mode”)</b> where file_object is the variable to add the file object. \n",
    "\n",
    "mode – tells the interpreter and developer which way the file will be used.\n",
    "\n",
    "Including a mode argument is optional because a default value of ‘r’ will be assumed if it is omitted. The ‘r’ value stands for read mode, which is just one of many. \n",
    "\n",
    "The modes are: \n",
    "\n",
    "- ‘r’ – Read mode which is used when the file is only being read \n",
    "- ‘w’ – Write mode which is used to edit and write new information to the file (any existing files with the same name will be erased when this mode is activated) \n",
    "- ‘a’ – Appending mode, which is used to add new data to the end of the file; that is new information is automatically amended to the end \n",
    "- ‘r+’ – Special read and write mode, which is used to handle both actions when working with a file \n",
    "\n",
    "# Create a text file\n",
    "\n",
    "Let’s create our own file: “testfile.txt”. \n"
   ]
  },
  {
   "cell_type": "code",
   "execution_count": 247,
   "metadata": {},
   "outputs": [],
   "source": [
    "# create a file:\n",
    "file = open('testfile.txt','w') \n",
    " \n",
    "file.write('Hello World') \n",
    "file.write('This is our new text file') # this will appended to the end of the file \n",
    "\n",
    "# to include a line break use: \\n\n",
    "file.write('\\n and this is another line.') \n",
    "\n",
    "# close the file object:\n",
    "file.close() "
   ]
  },
  {
   "cell_type": "markdown",
   "metadata": {},
   "source": [
    "# Reading a Text File in Python\n",
    "\n",
    "There are a number of ways to read a text file in Python. \n",
    "\n",
    "If you need to extract a string that contains all characters in the file, you can use the following method: \n",
    "\n",
    "\n",
    "<b>file.read()</b> "
   ]
  },
  {
   "cell_type": "code",
   "execution_count": 248,
   "metadata": {},
   "outputs": [
    {
     "name": "stdout",
     "output_type": "stream",
     "text": [
      "Hello WorldThis is our new text file\n",
      " and this is another line.\n"
     ]
    }
   ],
   "source": [
    "file = open('testfile.txt', 'r') \n",
    "print(file.read())"
   ]
  },
  {
   "cell_type": "markdown",
   "metadata": {},
   "source": [
    "Another way to read a file is to call a certain number of characters.  \n",
    "\n",
    "For example, with the following code the interpreter will read the first five characters of stored data and return it as a string: "
   ]
  },
  {
   "cell_type": "code",
   "execution_count": 249,
   "metadata": {},
   "outputs": [
    {
     "name": "stdout",
     "output_type": "stream",
     "text": [
      "Hello\n"
     ]
    }
   ],
   "source": [
    "file = open('testfile.txt', 'r')\n",
    " \n",
    "print(file.read(5)) "
   ]
  },
  {
   "cell_type": "markdown",
   "metadata": {},
   "source": [
    "If you want to read a file line by line – as opposed to pulling the content of the entire file at once – then you use the <b>readlines()</b> function. "
   ]
  },
  {
   "cell_type": "code",
   "execution_count": 250,
   "metadata": {},
   "outputs": [
    {
     "name": "stdout",
     "output_type": "stream",
     "text": [
      "['Hello WorldThis is our new text file\\n', ' and this is another line.']\n"
     ]
    }
   ],
   "source": [
    "file = open('testfile.txt', 'r')\n",
    "print(file.readlines()) "
   ]
  },
  {
   "cell_type": "code",
   "execution_count": 251,
   "metadata": {},
   "outputs": [
    {
     "name": "stdout",
     "output_type": "stream",
     "text": [
      " and this is another line.\n"
     ]
    }
   ],
   "source": [
    "# to access a specific line:\n",
    "\n",
    "file = open('testfile.txt', 'r')\n",
    "lines = file.readlines()\n",
    "\n",
    "print(lines[1]) "
   ]
  },
  {
   "cell_type": "markdown",
   "metadata": {},
   "source": [
    "# Looping over a file\n",
    "\n",
    "When you want to read – or return – all the lines from a file in a more memory efficient, and fast manner, you can use the loop over method. "
   ]
  },
  {
   "cell_type": "code",
   "execution_count": 252,
   "metadata": {},
   "outputs": [
    {
     "name": "stdout",
     "output_type": "stream",
     "text": [
      "Hello WorldThis is our new text file\n",
      "\n",
      " and this is another line.\n"
     ]
    }
   ],
   "source": [
    "file = open('testfile.txt', 'r')\n",
    "for line in file: \n",
    "    print(line) "
   ]
  },
  {
   "cell_type": "markdown",
   "metadata": {},
   "source": [
    "To close a file use the <b>close()</b> function. \n"
   ]
  },
  {
   "cell_type": "code",
   "execution_count": 253,
   "metadata": {},
   "outputs": [],
   "source": [
    "file.close()"
   ]
  },
  {
   "cell_type": "markdown",
   "metadata": {},
   "source": [
    "# Another way to write into a file\n",
    "\n",
    "Another way to write into a file is using the <b>print()</b> function."
   ]
  },
  {
   "cell_type": "code",
   "execution_count": 254,
   "metadata": {},
   "outputs": [],
   "source": [
    "print('Hello World!', file=open(\"testfile.txt\", \"w\")) # using \"w\" argument will rewrite the file use \"a\" to append\n",
    "\n",
    "file.close()"
   ]
  },
  {
   "cell_type": "code",
   "execution_count": 255,
   "metadata": {},
   "outputs": [
    {
     "name": "stdout",
     "output_type": "stream",
     "text": [
      "Hello World!\n",
      "\n"
     ]
    }
   ],
   "source": [
    "# Let's see what is in our file? \n",
    "\n",
    "file = open('testfile.txt', 'r')\n",
    "print(file.read())     \n",
    "    \n",
    "file.close()    "
   ]
  },
  {
   "cell_type": "markdown",
   "metadata": {},
   "source": [
    "# Creating a longer file or data table\n",
    "\n",
    "A longer file or data table can be easily created by using loops and the <b>print()</b> or <b>write()</b> functions."
   ]
  },
  {
   "cell_type": "code",
   "execution_count": 256,
   "metadata": {},
   "outputs": [
    {
     "name": "stdout",
     "output_type": "stream",
     "text": [
      "0\n",
      "1\n",
      "2\n",
      "3\n",
      "4\n",
      "5\n",
      "6\n",
      "7\n",
      "8\n",
      "9\n"
     ]
    }
   ],
   "source": [
    "# create some data:\n",
    "\n",
    "numbers = range(0,10)\n",
    "numbers_2 = range(10,20)\n",
    "numbers_3 = range(20,30)\n",
    "\n",
    "for i in numbers:\n",
    "    print(i)"
   ]
  },
  {
   "cell_type": "code",
   "execution_count": 257,
   "metadata": {},
   "outputs": [
    {
     "name": "stdout",
     "output_type": "stream",
     "text": [
      "0 10 20\n",
      "\n",
      "1 11 21\n",
      "\n",
      "2 12 22\n",
      "\n",
      "3 13 23\n",
      "\n",
      "4 14 24\n",
      "\n",
      "5 15 25\n",
      "\n",
      "6 16 26\n",
      "\n",
      "7 17 27\n",
      "\n",
      "8 18 28\n",
      "\n",
      "9 19 29\n",
      "\n"
     ]
    }
   ],
   "source": [
    "# empty out the file:\n",
    "file=open(\"testfile.txt\", \"w\")\n",
    "file.close()\n",
    "\n",
    "#write data into a file with a loop:\n",
    "for i in range(len(numbers)):\n",
    "    print(numbers[i], numbers_2[i], numbers_3[i], file=open('testfile.txt', 'a')) # using \"a\" will append to the file\n",
    "\n",
    "file.close()\n",
    "    \n",
    "file = open('testfile.txt', 'r')\n",
    "for line in file: \n",
    "    print(line)     "
   ]
  },
  {
   "cell_type": "code",
   "execution_count": 258,
   "metadata": {},
   "outputs": [
    {
     "name": "stdout",
     "output_type": "stream",
     "text": [
      "0 10 20\n",
      "\n",
      "1 11 21\n",
      "\n",
      "2 12 22\n",
      "\n",
      "3 13 23\n",
      "\n",
      "4 14 24\n",
      "\n",
      "5 15 25\n",
      "\n",
      "6 16 26\n",
      "\n",
      "7 17 27\n",
      "\n",
      "8 18 28\n",
      "\n",
      "9 19 29\n",
      "\n"
     ]
    }
   ],
   "source": [
    "# Another Way to write a table into a file\n",
    "file=open(\"testfile.txt\", \"w\")\n",
    "\n",
    "for i in range(len(numbers)):\n",
    "    file.write(str(numbers[i])+' '+str(numbers_2[i])+' '+str(numbers_3[i])+'\\n') \n",
    "\n",
    "file.close()\n",
    "    \n",
    "file = open('testfile.txt', 'r')\n",
    "for line in file: \n",
    "    print(line) "
   ]
  },
  {
   "cell_type": "markdown",
   "metadata": {},
   "source": [
    "How to make a data table with ',' spearated values:"
   ]
  },
  {
   "cell_type": "code",
   "execution_count": 259,
   "metadata": {},
   "outputs": [
    {
     "name": "stdout",
     "output_type": "stream",
     "text": [
      "ones, tens, twenties\n",
      "\n",
      "0, 10, 20\n",
      "\n",
      "1, 11, 21\n",
      "\n",
      "2, 12, 22\n",
      "\n",
      "3, 13, 23\n",
      "\n",
      "4, 14, 24\n",
      "\n",
      "5, 15, 25\n",
      "\n",
      "6, 16, 26\n",
      "\n",
      "7, 17, 27\n",
      "\n",
      "8, 18, 28\n",
      "\n",
      "9, 19, 29\n",
      "\n"
     ]
    }
   ],
   "source": [
    "# creating a data table\n",
    "file=open(\"testfile.txt\", \"w\")  #this can also be saved testfile.csv and oppened in excel \n",
    "file.write('ones, tens, twenties\\n') \n",
    "\n",
    "for i in range(len(numbers)):\n",
    "    file.write(str(numbers[i])+', '+str(numbers_2[i])+', '+str(numbers_3[i])+'\\n') \n",
    "\n",
    "file.close()\n",
    "    \n",
    "file = open('testfile.txt', 'r')\n",
    "for line in file: \n",
    "    print(line) "
   ]
  },
  {
   "cell_type": "markdown",
   "metadata": {},
   "source": [
    "# Splitting lines and reading in data files\n",
    "\n",
    "For this we can use the <b>split()</b> function."
   ]
  },
  {
   "cell_type": "code",
   "execution_count": 260,
   "metadata": {},
   "outputs": [
    {
     "name": "stdout",
     "output_type": "stream",
     "text": [
      "['ones,', 'tens,', 'twenties']\n",
      "['0,', '10,', '20']\n",
      "['1,', '11,', '21']\n",
      "['2,', '12,', '22']\n",
      "['3,', '13,', '23']\n",
      "['4,', '14,', '24']\n",
      "['5,', '15,', '25']\n",
      "['6,', '16,', '26']\n",
      "['7,', '17,', '27']\n",
      "['8,', '18,', '28']\n",
      "['9,', '19,', '29']\n"
     ]
    }
   ],
   "source": [
    "file = open('testfile.txt', 'r')\n",
    "data = file.readlines()\n",
    "for line in data:\n",
    "    numbers = line.split()\n",
    "    print(numbers) \n",
    "    \n",
    "file.close()  "
   ]
  },
  {
   "cell_type": "code",
   "execution_count": 261,
   "metadata": {},
   "outputs": [
    {
     "name": "stdout",
     "output_type": "stream",
     "text": [
      "['ones,', '0,', '1,', '2,', '3,', '4,', '5,', '6,', '7,', '8,', '9,']\n",
      "['tens,', '10,', '11,', '12,', '13,', '14,', '15,', '16,', '17,', '18,', '19,']\n"
     ]
    }
   ],
   "source": [
    "# define lists\n",
    "ones = []\n",
    "tens = []\n",
    "twenties = []\n",
    "\n",
    "# reade date from line\n",
    "file = open('testfile.txt', 'r')\n",
    "data = file.readlines()\n",
    "for line in data:\n",
    "    numbers = line.split()\n",
    "    ones.append(numbers[0])   # we use append() to append elements to a list\n",
    "    tens.append(numbers[1])\n",
    "    \n",
    "file.close()  \n",
    "\n",
    "print(ones)\n",
    "print(tens)"
   ]
  },
  {
   "cell_type": "markdown",
   "metadata": {},
   "source": [
    "We can loop over all the lines by defining i = number of lines. \n",
    "\n",
    "How do we know how many lines we have in the file? - we can use the <b>len()</b> function to count the elemnets in 'data'. E.g. len(data).\n",
    "\n",
    "Then we can create a list of indexes with the same number of elements as 'data' with <b>range()</b>:\n",
    "\n",
    "<b>range(len(data))</b>"
   ]
  },
  {
   "cell_type": "code",
   "execution_count": 262,
   "metadata": {},
   "outputs": [],
   "source": [
    "indexes = range(len(data))"
   ]
  },
  {
   "cell_type": "code",
   "execution_count": 263,
   "metadata": {},
   "outputs": [
    {
     "name": "stdout",
     "output_type": "stream",
     "text": [
      "['0', '1', '2', '3', '4', '5', '6', '7', '8', '9']\n"
     ]
    }
   ],
   "source": [
    "# define lists\n",
    "ones = []\n",
    "tens = []\n",
    "\n",
    "# reade date from line\n",
    "file = open('testfile.txt', 'r')\n",
    "data = file.readlines()\n",
    "for i in range(1,len(data)):\n",
    "    numbers = data[i].split(',')\n",
    "    ones.append(numbers[0]) \n",
    "    tens.append(numbers[1])\n",
    "    \n",
    "file.close()  \n",
    "\n",
    "print(ones)"
   ]
  },
  {
   "cell_type": "markdown",
   "metadata": {},
   "source": [
    "# Python modules\n",
    "\n",
    "A module is a Python object with arbitrarily named attributes that you can bind and reference. Simply, a module is a file consisting of Python code. A module can define functions, classes and variables.\n",
    "\n",
    "<b>Important note: Most comonly used modules don't come with the basic python distribution, you will need to install modules separately. The good news is, this can be done in the same way as you installed python (e.g. macports, pip, anaconda ...).</b>\n",
    "\n",
    "One of the exception modules is \"math\". This module can do basic mathematical operations. A bit like a calculator. \n",
    "\n",
    "A list of included modules is here: https://docs.python.org/3/library/index.html\n",
    "\n",
    "## Most popluar modules\n",
    "\n",
    "### Matplotlib\n",
    "\n",
    "Matplotlib is a Python 2D plotting library which produces publication quality figures in a variety of hardcopy formats and interactive environments across platforms. Matplotlib can be used in Python scripts, the Python and IPython shells, the Jupyter notebook, web application servers, and four graphical user interface toolkits.\n",
    "\n",
    "Matplotlib tries to make easy things easy and hard things possible. You can generate plots, histograms, power spectra, bar charts, errorcharts, scatterplots, etc., with just a few lines of code.\n",
    "\n",
    "Matplotlib: https://matplotlib.org/index.html\n",
    "\n",
    "Examples of plots: https://matplotlib.org/gallery.html   (This is super useful!)\n",
    "\n",
    "### Scipy\n",
    "\n",
    "SciPy (pronounced “Sigh Pie”) is a Python-based ecosystem of open-source software for mathematics, science, and engineering. In particular, these are some of the core packages:\n",
    "\n",
    "- Numpy\n",
    "- Pandas\n",
    "- Scipy library\n",
    "- matplotlib\n",
    "- IPython\n",
    "- Sympy\n",
    "\n",
    "The Scipy library provides many user-friendly and efficient numerical routines such as routines for numerical integration and optimization.\n",
    "\n",
    "### Numpy \n",
    "\n",
    "NumPy is the fundamental package for scientific computing with Python. It contains among other things:\n",
    "\n",
    "- a powerful N-dimensional array object\n",
    "- sophisticated (broadcasting) functions\n",
    "- tools for integrating C/C++ and Fortran code\n",
    "- useful linear algebra, Fourier transform, and random number capabilities\n",
    "\n",
    "Besides its obvious scientific uses, NumPy can also be used as an efficient multi-dimensional container of generic data. Arbitrary data-types can be defined. This allows NumPy to seamlessly and speedily integrate with a wide variety of databases.\n",
    "\n",
    "### Pandas\n",
    "\n",
    "Pandas is an open source, BSD-licensed library providing high-performance, easy-to-use data structures and data analysis tools for the Python programming language.\n",
    "\n",
    "https://pandas.pydata.org/\n",
    "\n",
    "### Astropy\n",
    "\n",
    "All sorts of astronomomy related tools. E.g. using coordinates, units, fits files ...\n",
    "\n",
    "http://www.astropy.org/\n",
    "\n",
    "### Various interfaces to other programs\n",
    "\n",
    "\n",
    "## Modules I will use\n",
    "\n",
    "- numpy\n",
    "- matplotlib\n",
    "\n",
    "## how to import a module\n",
    "\n",
    "Very simple:\n",
    "\n",
    "<b>import \"module name\"</b> - e.g. >import math is the most simple module\n",
    "\n",
    "It is possible to import specific functions and to make shortcuts:\n",
    "\n",
    "<b>import numpy as np</b>  - from here on we can reference all numpy functions as \"np.function()\" e.g. \"np.array()\"\n",
    "\n",
    "<b>import matplotlib.pyplot as plt</b> - this is very commonly used to make plots (more about this later)\n",
    "\n",
    "Only importing a specific function:\n",
    "\n",
    "<b>from matplotlib import pyplot</b>"
   ]
  },
  {
   "cell_type": "code",
   "execution_count": 264,
   "metadata": {},
   "outputs": [],
   "source": [
    "import math"
   ]
  },
  {
   "cell_type": "code",
   "execution_count": 265,
   "metadata": {},
   "outputs": [
    {
     "data": {
      "text/plain": [
       "3.141592653589793"
      ]
     },
     "execution_count": 265,
     "metadata": {},
     "output_type": "execute_result"
    }
   ],
   "source": [
    "math.pi"
   ]
  },
  {
   "cell_type": "code",
   "execution_count": 266,
   "metadata": {},
   "outputs": [
    {
     "data": {
      "text/plain": [
       "1.4142135623730951"
      ]
     },
     "execution_count": 266,
     "metadata": {},
     "output_type": "execute_result"
    }
   ],
   "source": [
    "math.sqrt(2)"
   ]
  },
  {
   "cell_type": "code",
   "execution_count": 267,
   "metadata": {},
   "outputs": [
    {
     "data": {
      "text/plain": [
       "0.8509035245341184"
      ]
     },
     "execution_count": 267,
     "metadata": {},
     "output_type": "execute_result"
    }
   ],
   "source": [
    "math.sin(45)"
   ]
  },
  {
   "cell_type": "code",
   "execution_count": 268,
   "metadata": {},
   "outputs": [
    {
     "data": {
      "text/plain": [
       "1.0"
      ]
     },
     "execution_count": 268,
     "metadata": {},
     "output_type": "execute_result"
    }
   ],
   "source": [
    "math.log10(10)"
   ]
  },
  {
   "cell_type": "markdown",
   "metadata": {},
   "source": [
    "# Converting lists into arrays\n",
    "\n",
    "One of the most fundamental data structures in any language is the array. Python doesn't have a native array data structure, but it has the list which is much more general and can be used as a multidimensional array quite easily.\n",
    "\n",
    "Lists are a very useful feature of python, however if we would like to perform more serious mathemathical operations, arrays are much better to use.  \n",
    "\n",
    "<b>More information:</b>\n",
    "\n",
    "Numpy - http://www.numpy.org/\n",
    "\n",
    "Numpy arrays - https://docs.scipy.org/doc/numpy/reference/generated/numpy.array.html\n",
    "\n",
    "A quick example using the numpay python package (more about numpy later):"
   ]
  },
  {
   "cell_type": "code",
   "execution_count": 269,
   "metadata": {},
   "outputs": [
    {
     "name": "stdout",
     "output_type": "stream",
     "text": [
      "[0. 1. 2. 3. 4. 5. 6. 7. 8. 9.]\n"
     ]
    }
   ],
   "source": [
    "import numpy as np\n",
    "\n",
    "ones_ar = np.array(ones,dtype=float)\n",
    "\n",
    "print(ones_ar)"
   ]
  },
  {
   "cell_type": "code",
   "execution_count": 270,
   "metadata": {},
   "outputs": [
    {
     "name": "stdout",
     "output_type": "stream",
     "text": [
      "['0', '1', '2', '3', '4', '5', '6', '7', '8', '9']\n",
      "['0', '1', '2', '3', '4', '5', '6', '7', '8', '9', '0', '1', '2', '3', '4', '5', '6', '7', '8', '9']\n"
     ]
    }
   ],
   "source": [
    "print(ones)\n",
    "print(ones * 2)"
   ]
  },
  {
   "cell_type": "code",
   "execution_count": 271,
   "metadata": {},
   "outputs": [
    {
     "name": "stdout",
     "output_type": "stream",
     "text": [
      "[0.0, 1.0, 2.0, 3.0, 4.0, 5.0, 6.0, 7.0, 8.0, 9.0]\n"
     ]
    }
   ],
   "source": [
    "# converting strings to numbers (floats - 16 decimal digits 'float()' - or integers 'int()' )\n",
    "\n",
    "for i in range(len(ones)):\n",
    "    ones[i] = float(ones[i])\n",
    "    \n",
    "print(ones)    "
   ]
  },
  {
   "cell_type": "code",
   "execution_count": 272,
   "metadata": {},
   "outputs": [
    {
     "name": "stdout",
     "output_type": "stream",
     "text": [
      "[0.0, 1.0, 2.0, 3.0, 4.0, 5.0, 6.0, 7.0, 8.0, 9.0, 0.0, 1.0, 2.0, 3.0, 4.0, 5.0, 6.0, 7.0, 8.0, 9.0]\n"
     ]
    }
   ],
   "source": [
    "print(ones * 2)"
   ]
  },
  {
   "cell_type": "code",
   "execution_count": 273,
   "metadata": {},
   "outputs": [],
   "source": [
    "#print(ones + 2)"
   ]
  },
  {
   "cell_type": "markdown",
   "metadata": {},
   "source": [
    "## Simple operations with arrays\n",
    "\n",
    "array + number -> array[j] + number \n",
    "\n",
    "array * number -> array[j] * number\n",
    "\n",
    "array1 * array2 -> array1[j] * array2[j]"
   ]
  },
  {
   "cell_type": "code",
   "execution_count": 274,
   "metadata": {},
   "outputs": [
    {
     "name": "stdout",
     "output_type": "stream",
     "text": [
      "[ 0.  2.  4.  6.  8. 10. 12. 14. 16. 18.]\n"
     ]
    }
   ],
   "source": [
    "print(ones_ar * 2.)"
   ]
  },
  {
   "cell_type": "code",
   "execution_count": 275,
   "metadata": {},
   "outputs": [
    {
     "name": "stdout",
     "output_type": "stream",
     "text": [
      "[ 2.  3.  4.  5.  6.  7.  8.  9. 10. 11.]\n"
     ]
    }
   ],
   "source": [
    "print(ones_ar + 2)"
   ]
  },
  {
   "cell_type": "code",
   "execution_count": 276,
   "metadata": {},
   "outputs": [
    {
     "name": "stdout",
     "output_type": "stream",
     "text": [
      "[  0.  11.  24.  39.  56.  75.  96. 119. 144. 171.]\n"
     ]
    }
   ],
   "source": [
    "tens_ar = np.array(tens,dtype=float)\n",
    "\n",
    "#print(ones_ar)\n",
    "#print(tens_ar)\n",
    "\n",
    "print(ones_ar * tens_ar)"
   ]
  },
  {
   "cell_type": "markdown",
   "metadata": {},
   "source": [
    "# # Exercise\n",
    "\n",
    "Read in data table (iris.csv) into lists. One list for each column (sepal_length, sepal_width, petal_length, petal_width, specis)\n",
    "\n",
    "1. Define lists\n",
    "2. open the file\n",
    "3. read in the individual lines in the file\n",
    "4. split up the lines based on the deliminator (',')\n",
    "5. add data to lists\n",
    "6. print your lists to check them\n"
   ]
  }
 ],
 "metadata": {
  "kernelspec": {
   "display_name": "Python 3",
   "language": "python",
   "name": "python3"
  },
  "language_info": {
   "codemirror_mode": {
    "name": "ipython",
    "version": 3
   },
   "file_extension": ".py",
   "mimetype": "text/x-python",
   "name": "python",
   "nbconvert_exporter": "python",
   "pygments_lexer": "ipython3",
   "version": "3.4.8"
  }
 },
 "nbformat": 4,
 "nbformat_minor": 2
}
